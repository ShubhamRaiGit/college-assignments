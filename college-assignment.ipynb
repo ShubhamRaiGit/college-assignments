{
  "nbformat": 4,
  "nbformat_minor": 0,
  "metadata": {
    "colab": {
      "name": "Untitled0.ipynb",
      "provenance": [],
      "collapsed_sections": [],
      "authorship_tag": "ABX9TyOIAEEI4YxR0QUzUGX+bClE",
      "include_colab_link": true
    },
    "kernelspec": {
      "name": "python3",
      "display_name": "Python 3"
    },
    "language_info": {
      "name": "python"
    }
  },
  "cells": [
    {
      "cell_type": "markdown",
      "metadata": {
        "id": "view-in-github",
        "colab_type": "text"
      },
      "source": [
        "<a href=\"https://colab.research.google.com/github/ShubhamRaiGit/college-assignments/blob/main/college-assignment.ipynb\" target=\"_parent\"><img src=\"https://colab.research.google.com/assets/colab-badge.svg\" alt=\"Open In Colab\"/></a>"
      ]
    },
    {
      "cell_type": "markdown",
      "metadata": {
        "id": "6grpkUfMQTHH"
      },
      "source": [
        "# Hive Assignment\n",
        "\n",
        "> CA675\n",
        "\n",
        "Author : Shubham Rai<br>\n",
        "Student Number : 21261161"
      ]
    },
    {
      "cell_type": "markdown",
      "metadata": {
        "id": "oUtD_yFlR5AJ"
      },
      "source": [
        "# Data Extraction"
      ]
    },
    {
      "cell_type": "markdown",
      "metadata": {
        "id": "kBfZY4IBQ-Fn"
      },
      "source": [
        "Data set extracted from following link \n",
        "https://data.stackexchange.com/stackoverflow/query/new\n"
      ]
    },
    {
      "cell_type": "markdown",
      "metadata": {
        "id": "j4LYQQuzRW0O"
      },
      "source": [
        "**Query used to extract data**\n",
        "\n",
        "\n",
        "As data extraction limit is 50000 we need to extract 4 files with help of row number.\n",
        "\n",
        "\n",
        "```\n",
        "SELECT \n",
        "*\n",
        "FROM \n",
        "(\n",
        "SELECT \n",
        "ROW_NUMBER() OVER (ORDER BY VIEWCOUNT DESC) AS RN, \n",
        "Id,\n",
        "PostTypeId,\n",
        "AcceptedAnswerId,\n",
        "ParentId,\n",
        "CreationDate,\n",
        "DeletionDate,\n",
        "Score,\n",
        "ViewCount,\n",
        "OwnerUserId,\n",
        "OwnerDisplayName,\n",
        "LastEditorUserId,\n",
        "LastEditorDisplayName,\n",
        "LastEditDate,\n",
        "LastActivityDate,\n",
        "Title,\n",
        "Tags,\n",
        "AnswerCount,\n",
        "CommentCount,\n",
        "FavoriteCount,\n",
        "ClosedDate,\n",
        "CommunityOwnedDate,\n",
        "ContentLicense\n",
        "FROM POSTS WHERE VIEWCOUNT IS NOT NULL\n",
        ") AS T\n",
        "WHERE RN BETWEEN 200000 AND 200001\n",
        "```\n",
        "\n"
      ]
    }
  ]
}